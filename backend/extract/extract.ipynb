{
 "cells": [
  {
   "cell_type": "code",
   "execution_count": 4,
   "metadata": {},
   "outputs": [],
   "source": [
    "nodeLength = 5343\n",
    "import numpy as np\n",
    "import pandas as pd\n",
    "import json\n",
    "from tulip import tlp\n",
    "import random\n",
    "import numpy as np\n",
    "from sklearn.manifold import TSNE"
   ]
  },
  {
   "cell_type": "code",
   "execution_count": 5,
   "metadata": {},
   "outputs": [],
   "source": [
    "emb = [[] for i in range(nodeLength)]\n",
    "f = open('../data/all.emb', 'r')\n",
    "for line in f:\n",
    "    tem = line[:-1].split(' ')\n",
    "    if len(tem) < 128:\n",
    "        continue\n",
    "    node = int(tem[0])\n",
    "    for it in tem[1:]:\n",
    "        emb[node].append(float(it))\n",
    "emb = np.array(emb)"
   ]
  },
  {
   "cell_type": "code",
   "execution_count": 6,
   "metadata": {},
   "outputs": [
    {
     "name": "stdout",
     "output_type": "stream",
     "text": [
      "[t-SNE] Computing 91 nearest neighbors...\n",
      "[t-SNE] Indexed 5343 samples in 0.067s...\n",
      "[t-SNE] Computed neighbors for 5343 samples in 9.043s...\n",
      "[t-SNE] Computed conditional probabilities for sample 1000 / 5343\n",
      "[t-SNE] Computed conditional probabilities for sample 2000 / 5343\n",
      "[t-SNE] Computed conditional probabilities for sample 3000 / 5343\n",
      "[t-SNE] Computed conditional probabilities for sample 4000 / 5343\n",
      "[t-SNE] Computed conditional probabilities for sample 5000 / 5343\n",
      "[t-SNE] Computed conditional probabilities for sample 5343 / 5343\n",
      "[t-SNE] Mean sigma: 2.462230\n",
      "[t-SNE] KL divergence after 250 iterations with early exaggeration: 73.378647\n",
      "[t-SNE] Error after 1000 iterations: 0.665870\n"
     ]
    }
   ],
   "source": [
    "tsne = TSNE(perplexity=30, n_components=2, n_iter=1000, verbose = 1)\n",
    "low_emb = tsne.fit_transform(emb)"
   ]
  },
  {
   "cell_type": "code",
   "execution_count": 7,
   "metadata": {},
   "outputs": [],
   "source": [
    "data = pd.DataFrame(low_emb)"
   ]
  },
  {
   "cell_type": "code",
   "execution_count": 9,
   "metadata": {},
   "outputs": [],
   "source": [
    "data.to_csv('emb.csv', index=False)"
   ]
  },
  {
   "cell_type": "code",
   "execution_count": 13,
   "metadata": {},
   "outputs": [],
   "source": [
    "embData = np.loadtxt(\"emb.csv\",delimiter=\",\", skiprows=1)"
   ]
  },
  {
   "cell_type": "code",
   "execution_count": 14,
   "metadata": {},
   "outputs": [
    {
     "data": {
      "text/plain": [
       "(5343, 2)"
      ]
     },
     "execution_count": 14,
     "metadata": {},
     "output_type": "execute_result"
    }
   ],
   "source": [
    "embData.shape"
   ]
  },
  {
   "cell_type": "code",
   "execution_count": null,
   "metadata": {},
   "outputs": [],
   "source": []
  }
 ],
 "metadata": {
  "kernelspec": {
   "display_name": "Python 3",
   "language": "python",
   "name": "python3"
  },
  "language_info": {
   "codemirror_mode": {
    "name": "ipython",
    "version": 3
   },
   "file_extension": ".py",
   "mimetype": "text/x-python",
   "name": "python",
   "nbconvert_exporter": "python",
   "pygments_lexer": "ipython3",
   "version": "3.6.4"
  }
 },
 "nbformat": 4,
 "nbformat_minor": 2
}
